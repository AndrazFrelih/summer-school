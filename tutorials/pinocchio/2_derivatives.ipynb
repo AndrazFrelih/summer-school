{
 "cells": [
  {
   "cell_type": "markdown",
   "metadata": {},
   "source": [
    "![](https://raw.githubusercontent.com/stack-of-tasks/pinocchio/master/doc/images/pinocchio-logo-large.png)"
   ]
  },
  {
   "cell_type": "markdown",
   "metadata": {},
   "source": [
    "# Pinocchio: rigib-body derivatives\n"
   ]
  },
  {
   "cell_type": "code",
   "execution_count": 1,
   "metadata": {},
   "outputs": [
    {
     "name": "stdout",
     "output_type": "stream",
     "text": [
      "NB: as for all the tutorials, a magic command %do_not_load is introduced to hide the solutions to some questions. Change it for %load if you want to see (and execute) the solution.\n"
     ]
    }
   ],
   "source": [
    "import magic_donotload"
   ]
  },
  {
   "cell_type": "markdown",
   "metadata": {},
   "source": [
    "## Credits\n",
    "More than anywhere in Pinocchio, the derivative algorithms are the results of the hard work of Justin Carpentier. Read more about the mathematics behing the code in *Carpentier and Mansard, \"Analytical derivatives of rigid body dynamics algorithms\", RSS 2018*."
   ]
  },
  {
   "cell_type": "markdown",
   "metadata": {},
   "source": [
    "## Set up\n",
    "We will need Pinocchio, the robot models stored in the package *example-robot-data*, a viewer (either GepettoViewer or MeshCat), some basic linear-algebra operators and the SciPy optimizers."
   ]
  },
  {
   "cell_type": "code",
   "execution_count": 26,
   "metadata": {},
   "outputs": [],
   "source": [
    "import pinocchio as pin\n",
    "import example_robot_data as robex\n",
    "import numpy as np\n",
    "from numpy.linalg import inv,pinv,eig,norm,svd,det\n",
    "from scipy.optimize import fmin_bfgs\n",
    "import time\n",
    "import copy\n",
    "np.set_printoptions(precision=2, linewidth=200, suppress=True)"
   ]
  },
  {
   "cell_type": "markdown",
   "metadata": {},
   "source": [
    "## Quick description of the tutorial"
   ]
  },
  {
   "cell_type": "markdown",
   "metadata": {},
   "source": [
    "We will follow the same roadmap as for the previous tutorial, and compute the derivatives of each cost function. We then re-start with a manipulator robot, that has a regular vector configuration (no fancy Lie group there in the begining), and only consider free-basis robot at the very end. "
   ]
  },
  {
   "cell_type": "code",
   "execution_count": 27,
   "metadata": {},
   "outputs": [],
   "source": [
    "robot = robex.loadTalosArm()   # Load a 6-dof manipulator arm\n",
    "\n",
    "Viewer = pin.visualize.GepettoVisualizer\n",
    "#Viewer = pin.visualize.MeshcatVisualizer\n",
    "\n",
    "viz = Viewer(robot.model, robot.collision_model, robot.visual_model)\n",
    "viz.initViewer(loadModel=True)\n",
    "viz.display(robot.q0)\n",
    "\n",
    "# jupyter_cell does not like to be inside a if/then block\n",
    "isinstance(viz,pin.visualize.MeshcatVisualizer) and viz.viewer.jupyter_cell()  ;"
   ]
  },
  {
   "cell_type": "code",
   "execution_count": 28,
   "metadata": {},
   "outputs": [],
   "source": [
    "rmodel = robot.model\n",
    "rdata = rmodel.createData()\n",
    "\n",
    "# Arbitrarily selects a frame (and the parent joint) for later cost functions.\n",
    "frameIndex = rmodel.getFrameId('gripper_left_fingertip_1_link')\n",
    "jointIndex = rmodel.frames[frameIndex].parent\n"
   ]
  },
  {
   "cell_type": "markdown",
   "metadata": {},
   "source": [
    "## 1. Derivatives of the 6d \"placement\" cost"
   ]
  },
  {
   "cell_type": "markdown",
   "metadata": {},
   "source": [
    "We first study the derivatives of the 6d cost. As Pinocchio works with spatial \"6d\" quantities, this derivative is indeed slightly more intuitive that the one of the 3d cost.\n",
    "\n",
    "**Notations**: For the derivations that follows, let denote by $\\ ^oM_*$ the target placement `Mtarget` and by $\\ ^oM_e(q)$ the placement of the operational frame `rdata.oMf[frameIndex]`."
   ]
  },
  {
   "cell_type": "markdown",
   "metadata": {},
   "source": [
    "Let's recall first that the 6d cost function is the log of the relative placement $cost(q) = log(^oM_{*}^{-1} \\ ^oM_e(q))$, with $\\ ^oM_{*}$ a fixed placement, and $\\ ^oM_e(q)$ the placement of a given operational frame $\\mathcal{F}_e$ of the robot. Applying [the chain rule](https://www.khanacademy.org/math/ap-calculus-ab/ab-differentiation-2-new/ab-3-1a/v/chain-rule-introduction), the derivative of $cost$ must be the product of two derivatives: the derivative of $log$, and the derivative of the relative placement.\n"
   ]
  },
  {
   "cell_type": "code",
   "execution_count": 48,
   "metadata": {},
   "outputs": [],
   "source": [
    "# This is a copy of the code explained in the first notebook:\n",
    "q = pin.randomConfiguration(rmodel)\n",
    "Mtarget = pin.SE3(pin.utils.rotate('x',3.14/4), np.array([0.5, 0.1, 0.27])) # arbitrary values\n",
    "pin.forwardKinematics(rmodel,rdata,q)\n",
    "Meff = rdata.oMf[frameIndex]\n",
    "targetMeff = Mtarget.inverse()*Meff\n",
    "residual = pin.log(targetMeff).vector\n",
    "cost = sum(residual**2)"
   ]
  },
  {
   "cell_type": "markdown",
   "metadata": {},
   "source": [
    "### Derivative of the placement of a frame attached to the robot\n",
    "#### Spatial velocities\n",
    "The derivative of a place $\\ ^AM_B(q)$ is a spatial velocity, denoted $\\nu_{AB}$. The spatial velocity is the representation of the vector field of 3D velocity of each point of the rigid body. In Pinocchio, $\\nu$ can be represented in two ways:\n",
    "- either in the $\\mathcal{F}_B$ frame, $\\ ^B\\nu_{AB} = (\\ ^Bv_B, \\ ^B\\omega)$. In that case both the linear part $v$ and the angular part $\\omega$ are represented in the $B$ frame, while $v_B$ is the velocity of the center of the frame $\\mathcal{F}_B$.\n",
    "- or in the $\\mathcal{F}_A$ frame, $\\ ^A\\nu_{AB} = (\\ ^Av_A, \\ ^A\\omega)$. In that case, $v$ and $\\omega$ are expressed along the frames of $\\mathcal{F}_A$, and $v_A$ is the velocity of the point rigidly attached to the body passing through the centre of $\\mathcal{F}_A$ at this instant. \n",
    "\n",
    "Spatial velocities are implemented in Pinocchio by the class `pin.Motion`, and are respectively argument and output of `pin.exp` and `pin.log`."
   ]
  },
  {
   "cell_type": "markdown",
   "metadata": {},
   "source": [
    "#### Joint jacobians\n",
    "When the spatial velocity of a frame attached to the robot is the consequence of a joint velocity $v_q$, it can be computed as $\\nu = J(q) v_q$. As we said, $\\nu$ can be represented in an arbitrary frame. The two logical choices are either the `pin.WORLD` frame, i.e. the frame attached to the universe joint `rmodel.joints[0]`; or it can be the local joint attached to the frame we are observing.\n",
    "\n",
    "Similarly, the Jacobian should be expressed in either of these two frames $\\ ^o\\nu = \\ ^oJ(q) v_q$ or $\\ ^e\\nu = \\ ^eJ(q) v_q$ (where $\\ ^oe_E(q)$ is  operational frame of interest)."
   ]
  },
  {
   "cell_type": "code",
   "execution_count": 31,
   "metadata": {},
   "outputs": [],
   "source": [
    "pin.computeJointJacobians(rmodel,rdata,q)   ### precomputes all jacobians\n",
    "oJ = pin.getJointJacobian(rmodel,rdata,jointIndex,pin.WORLD)  # in world frame\n",
    "eJ = pin.getJointJacobian(rmodel,rdata,jointIndex,pin.LOCAL)  # in local frame"
   ]
  },
  {
   "cell_type": "markdown",
   "metadata": {},
   "source": [
    "The shortcut `pin.computeJacobian(rmodel,rdata,q,jointIndex)` computes a single jacobian, without pre-calculation, but only in the local frame (as running this version of the algorithm in the world frame is not efficient)."
   ]
  },
  {
   "cell_type": "markdown",
   "metadata": {},
   "source": [
    "#### Frame jacocians\n",
    "We yet gave the syntax for evaluating the jacobian of a frame attached to a joint. The syntax is quite similar for frame jacobians."
   ]
  },
  {
   "cell_type": "code",
   "execution_count": 33,
   "metadata": {},
   "outputs": [],
   "source": [
    "pin.computeJointJacobians(rmodel,rdata,q)   ### precomputes all jacobians\n",
    "oJf = pin.getFrameJacobian(rmodel,rdata,frameIndex,pin.WORLD)  # in world frame\n",
    "fJf = pin.getFrameJacobian(rmodel,rdata,frameIndex,pin.LOCAL)"
   ]
  },
  {
   "cell_type": "markdown",
   "metadata": {},
   "source": [
    "Actually, as the operational frame and the joint space are rigidly attached, their velocity vector fields are the same, hence the expression of their spatial velocity in a same frame are equals, hence their world jacobians are equal."
   ]
  },
  {
   "cell_type": "code",
   "execution_count": 37,
   "metadata": {},
   "outputs": [],
   "source": [
    "assert(norm(oJf-oJ)==0)  ### no numerical rounding errors here, they are exactly the same"
   ]
  },
  {
   "cell_type": "markdown",
   "metadata": {},
   "source": [
    "#### Changing the frame of expression of velocities\n",
    "If we want to expressed the spatial velocity in another frame, we can move its expression with the corresponding SE3 displacement: change $\\ ^A\\nu$ expressed in $\\mathcal{F}_A$ into $\\ ^B\\nu$ expressed in $\\mathcal{F}_B$ is done with the so-called SE(3) **action**. "
   ]
  },
  {
   "cell_type": "code",
   "execution_count": 40,
   "metadata": {},
   "outputs": [],
   "source": [
    "aMb = pin.SE3.Random()\n",
    "anu = pin.Motion.Random()\n",
    "bnu = aMb.act(anu)"
   ]
  },
  {
   "cell_type": "markdown",
   "metadata": {},
   "source": [
    "The SE3 action, also call \"big\" Adjoint, is a linear operation in $\\nu$, that we denote by the action matrix $\\ ^AX_B$. The action matrix can be explicited with:"
   ]
  },
  {
   "cell_type": "code",
   "execution_count": 42,
   "metadata": {},
   "outputs": [],
   "source": [
    "aXb = aMb.action\n",
    "bnu_vec = aXb @ anu.vector\n",
    "assert(norm(bnu_vec-bnu.vector)<1e-6)"
   ]
  },
  {
   "cell_type": "markdown",
   "metadata": {},
   "source": [
    "Jacobians can be changed with the same way. Formally, the colums of the jacobian are spatial velocities, yet they are not represented that way in Pinocchio, and the `pin.SE3.act` function does not work on jacobian. You have to explicitly use the action matrix.\n",
    "\n",
    "For example, the jacobian of the operation frame wrt the target frame, expressed in the target frame, is $\\ ^*J$:"
   ]
  },
  {
   "cell_type": "code",
   "execution_count": null,
   "metadata": {},
   "outputs": [],
   "source": [
    "targetJ = Mtarget.inverse().action @ oJ"
   ]
  },
  {
   "cell_type": "markdown",
   "metadata": {},
   "source": [
    "If you followed properly, you should be convinced that the jacobian corresponding to $\\ ^{target}M_{e}$ is the \n",
    "same as the one for $\\ ^oM_e$."
   ]
  },
  {
   "cell_type": "markdown",
   "metadata": {},
   "source": [
    "#### Log jacobian\n",
    "\n",
    "Now, we have two representations possible for the jacobian of $(\\ ^oM_{*}^{-1} \\ ^oM_e)$: either $\\ ^*J$ or $\\ ^eJ$. Which one should we choose. Well, actually, it depends on the choise we make for representing the jacobian of the log.\n",
    "\n",
    "M(q) is a function that maps the configuration space (a vector space, so far) into the Lie group SE(3). On the other hand, the *log* is a function thats maps the same Lie group SE(3) into the vector space $\\mathbb{R}^6$ (or, more specifically, the space of spatial velocity, which is a real vector space of dimension 6). So, similarly to the jacobian of M, the jacobian of *log* can be represented either in the frame attache to the operational frame $\\mathcal{F}_e$ or to the frame attached to the fixed target $\\mathcal{F}_*. \n",
    "\n",
    "Let's look at the documentation of `pin.Jlog6` to knwo which frame to use:"
   ]
  },
  {
   "cell_type": "code",
   "execution_count": 53,
   "metadata": {},
   "outputs": [
    {
     "name": "stdout",
     "output_type": "stream",
     "text": [
      "\n",
      "Jlog6( (SE3)Spatial transform M (SE3)) -> object :\n",
      "    Jacobian of log(M) which maps from the tangent of SE(3) at M to the tangent of SE(3) at Identity.\n"
     ]
    }
   ],
   "source": [
    "print(pin.Jlog6.__doc__)"
   ]
  },
  {
   "cell_type": "markdown",
   "metadata": {},
   "source": [
    "So, in clear, the frame Jacobian should be expressed in the local frame, as the jacobian of the log is also expressed in this frame.\n",
    "\n",
    "We can now conclude."
   ]
  },
  {
   "cell_type": "markdown",
   "metadata": {},
   "source": [
    "#### Gradrient of the cost function\n",
    "\n",
    "Our cost is $c(q) = r(q)^T r(q)$, where the residual $r(q) = log(\\ ^*M_e(q))$. \n",
    "The cost gradient is then $\\nabla c = \\frac{d c}{d q} = 2 J^T r$, where $J = \\frac{dr}{dq}$, the jacobian of the residual, is the product of the jacobian of the log $J_{log}$ and the jacobian of the operational frame placement $J_q$.\n",
    "$$ \\nabla c = 2 J_q^T J_{log}^T r(q)$$\n",
    "\n",
    " "
   ]
  },
  {
   "cell_type": "markdown",
   "metadata": {},
   "source": [
    "![question](question.png)\n",
    "Rewrite the cost 6d class of the previous notebook, with an additional `def calcDiff(self,q)` function that return the gradient of the cost."
   ]
  },
  {
   "cell_type": "code",
   "execution_count": 62,
   "metadata": {},
   "outputs": [],
   "source": [
    "# %load -r 42-72 costs.py\n",
    "class Cost6d:\n",
    "    def __init__(self,rmodel,rdata,frameIndex=None, Mtarget=None,viz=None):\n",
    "        self.rmodel = rmodel\n",
    "        self.rdata = rdata\n",
    "        self.Mtarget = Mtarget if Mtarget is not None \\\n",
    "                       else pin.SE3(pin.utils.rotate('x',3.14/4), np.array([0.5, 0.1, 0.27]))  # x,y,z\n",
    "        self.frameIndex = frameIndex if frameIndex is not None else robot.model.nframes-1\n",
    "        self.viz = viz\n",
    "\n",
    "    def residual(self,q):\n",
    "        '''Compute score from a configuration'''\n",
    "        pin.forwardKinematics(self.rmodel,self.rdata,q)\n",
    "        M = pin.updateFramePlacement(self.rmodel,self.rdata,self.frameIndex)\n",
    "        self.deltaM = self.Mtarget.inverse() * M\n",
    "        return pin.log(self.deltaM).vector\n",
    "\n",
    "    def calc(self,q):\n",
    "        return sum(self.residual(q)**2)\n",
    "\n",
    "    def callback(self,q):\n",
    "        if self.viz is None: return\n",
    "        self.viz.applyConfiguration('world/blue', pin.SE3ToXYZQUATtuple(M))\n",
    "        self.viz.applyConfiguration('world/box', pin.SE3ToXYZQUATtuple(self.Mtarget))\n",
    "        self.viz.display(q)\n",
    "        time.sleep(1e-2)\n",
    "\n",
    "    def calcDiff(self,q):\n",
    "        J = pin.computeFrameJacobian(self.rmodel,self.rdata,q,self.frameIndex)\n",
    "        r = self.residual(q)\n",
    "        Jlog = pin.Jlog6(self.deltaM)\n",
    "        return 2 * J.T @ Jlog.T @ r"
   ]
  },
  {
   "cell_type": "markdown",
   "metadata": {},
   "source": [
    "<div class=\"alert alert-block alert-info\">\n",
    "    <img src=\"recap.png\" title=\"Recap\"/>\n",
    "    <h3>Recap of the main syntax elements exposed in this section</h3>\n",
    "    <ul>\n",
    "        <li><code>pin.computeJointJacobians(rmodel,rdata,q)</code> precomputes all the jacobians.</li>\n",
    "        <li><code>pin.getJointJacobian(rmodel,rdata,jointIndex,pin.ReferenceFrame)</code> and <code>pin.getFrameJacobian(rmodel,rdata,frameIndex,pin.ReferenceFrame)</code> returns the joint and frame jacobians, where <code>pin.ReferenceFrame</code> can be either <code>pin.LOCAL</code> or <code>pin.WORLD</code>. </li>\n",
    "        <li><code>pin.SE3.act</code> can change the expression frame of spatial velocities.</li>\n",
    "        <li><code>pin.SE3.action</code> is the $6\\times 6$ action matrix, that can right multiplies joint and frame jacobians.</li>\n",
    "        <li><code>pin.Jlog6</code> compute the jacobian of the log of SE(3). It is expressed</li>\n",
    "\n",
    "     </ul>\n",
    "</div>"
   ]
  },
  {
   "cell_type": "markdown",
   "metadata": {},
   "source": [
    "## 2. Finite differencing for validation"
   ]
  },
  {
   "cell_type": "markdown",
   "metadata": {},
   "source": [
    "... introducing the paragraph"
   ]
  },
  {
   "cell_type": "markdown",
   "metadata": {},
   "source": []
  },
  {
   "cell_type": "code",
   "execution_count": null,
   "metadata": {},
   "outputs": [],
   "source": []
  },
  {
   "cell_type": "markdown",
   "metadata": {},
   "source": [
    "<div class=\"alert alert-block alert-info\">\n",
    "    <img src=\"recap.png\" title=\"Recap\"/>\n",
    "    <h3>Recap of the main syntax elements exposed in this section</h3>\n",
    "    <ul>\n",
    "        <li><code></code> </li>\n",
    "        <li><code></code> </li>\n",
    "        <li><code></code> </li>\n",
    "     </ul>\n",
    "</div>"
   ]
  },
  {
   "cell_type": "markdown",
   "metadata": {},
   "source": [
    "## 3. Derivatives the 3d \"position\" cost"
   ]
  },
  {
   "cell_type": "markdown",
   "metadata": {},
   "source": [
    "... introducing the paragraph"
   ]
  },
  {
   "cell_type": "markdown",
   "metadata": {},
   "source": []
  },
  {
   "cell_type": "code",
   "execution_count": null,
   "metadata": {},
   "outputs": [],
   "source": []
  },
  {
   "cell_type": "markdown",
   "metadata": {},
   "source": [
    "<div class=\"alert alert-block alert-info\">\n",
    "    <img src=\"recap.png\" title=\"Recap\"/>\n",
    "    <h3>Recap of the main syntax elements exposed in this section</h3>\n",
    "    <ul>\n",
    "     <li>Cheese</li>\n",
    "     <li>Carrot</li>\n",
    "     <li>Coconut</li>\n",
    "     </ul>\n",
    "</div>"
   ]
  },
  {
   "cell_type": "markdown",
   "metadata": {},
   "source": [
    "## 4. Derivatives of the posture cost"
   ]
  },
  {
   "cell_type": "markdown",
   "metadata": {},
   "source": [
    "... introducing the paragraph"
   ]
  },
  {
   "cell_type": "markdown",
   "metadata": {},
   "source": []
  },
  {
   "cell_type": "code",
   "execution_count": null,
   "metadata": {},
   "outputs": [],
   "source": []
  },
  {
   "cell_type": "markdown",
   "metadata": {},
   "source": [
    "<div class=\"alert alert-block alert-info\">\n",
    "    <img src=\"recap.png\" title=\"Recap\"/>\n",
    "    <h3>Recap of the main syntax elements exposed in this section</h3>\n",
    "    <ul>\n",
    "     <li>Cheese</li>\n",
    "     <li>Carrot</li>\n",
    "     <li>Coconut</li>\n",
    "     </ul>\n",
    "</div>"
   ]
  },
  {
   "cell_type": "markdown",
   "metadata": {},
   "source": [
    "## 5. Derivatives of the two gravity costs"
   ]
  },
  {
   "cell_type": "markdown",
   "metadata": {},
   "source": [
    "... introducing the paragraph"
   ]
  },
  {
   "cell_type": "markdown",
   "metadata": {},
   "source": []
  },
  {
   "cell_type": "code",
   "execution_count": null,
   "metadata": {},
   "outputs": [],
   "source": []
  },
  {
   "cell_type": "markdown",
   "metadata": {},
   "source": [
    "<div class=\"alert alert-block alert-info\">\n",
    "    <img src=\"recap.png\" title=\"Recap\"/>\n",
    "    <h3>Recap of the main syntax elements exposed in this section</h3>\n",
    "    <ul>\n",
    "     <li>Cheese</li>\n",
    "     <li>Carrot</li>\n",
    "     <li>Coconut</li>\n",
    "     </ul>\n",
    "</div>"
   ]
  },
  {
   "cell_type": "markdown",
   "metadata": {},
   "source": [
    "## 6. The return of the free flyer"
   ]
  },
  {
   "cell_type": "markdown",
   "metadata": {},
   "source": [
    "... introducing the paragraph"
   ]
  },
  {
   "cell_type": "markdown",
   "metadata": {},
   "source": []
  },
  {
   "cell_type": "code",
   "execution_count": null,
   "metadata": {},
   "outputs": [],
   "source": []
  },
  {
   "cell_type": "markdown",
   "metadata": {},
   "source": [
    "<div class=\"alert alert-block alert-info\">\n",
    "    <img src=\"recap.png\" title=\"Recap\"/>\n",
    "    <h3>Recap of the main syntax elements exposed in this section</h3>\n",
    "    <ul>\n",
    "     <li>Cheese</li>\n",
    "     <li>Carrot</li>\n",
    "     <li>Coconut</li>\n",
    "     </ul>\n",
    "</div>"
   ]
  },
  {
   "cell_type": "code",
   "execution_count": null,
   "metadata": {},
   "outputs": [],
   "source": []
  }
 ],
 "metadata": {
  "kernelspec": {
   "display_name": "Python 3",
   "language": "python",
   "name": "python3"
  },
  "language_info": {
   "codemirror_mode": {
    "name": "ipython",
    "version": 3
   },
   "file_extension": ".py",
   "mimetype": "text/x-python",
   "name": "python",
   "nbconvert_exporter": "python",
   "pygments_lexer": "ipython3",
   "version": "3.6.9"
  }
 },
 "nbformat": 4,
 "nbformat_minor": 4
}
