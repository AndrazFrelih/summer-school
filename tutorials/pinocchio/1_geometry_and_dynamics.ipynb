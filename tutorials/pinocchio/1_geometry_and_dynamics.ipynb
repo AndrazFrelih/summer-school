{
 "cells": [
  {
   "cell_type": "markdown",
   "metadata": {},
   "source": [
    "![](https://raw.githubusercontent.com/stack-of-tasks/pinocchio/master/doc/images/pinocchio-logo-large.png)"
   ]
  },
  {
   "cell_type": "markdown",
   "metadata": {},
   "source": [
    "# Pinocchio: rigib-body algorithms\n"
   ]
  },
  {
   "cell_type": "code",
   "execution_count": 1,
   "metadata": {},
   "outputs": [
    {
     "name": "stdout",
     "output_type": "stream",
     "text": [
      "NB: as for all the tutorials, a magic command %do_not_load is introduced to hide the solutions to some questions. Change it for %load if you want to see (and execute) the solution.\n"
     ]
    }
   ],
   "source": [
    "import magic_donotload"
   ]
  },
  {
   "cell_type": "markdown",
   "metadata": {},
   "source": [
    "## Set up\n",
    "We will need Pinocchio, the robot models stored in the package *example-robot-data*, a viewer (either GepettoViewer or MeshCat), some basic linear-algebra operators and the SciPy optimizers."
   ]
  },
  {
   "cell_type": "code",
   "execution_count": 2,
   "metadata": {},
   "outputs": [],
   "source": [
    "import pinocchio as pin\n",
    "import example_robot_data as robex\n",
    "import numpy as np\n",
    "from numpy.linalg import inv,pinv,eig,norm,svd,det\n",
    "from scipy.optimize import fmin_bfgs\n",
    "import time\n",
    "import copy"
   ]
  },
  {
   "cell_type": "markdown",
   "metadata": {},
   "source": [
    "## 1. Load and display the robot"
   ]
  },
  {
   "cell_type": "markdown",
   "metadata": {},
   "source": [
    "Pinocchio is a library to compute different quantities related to the robot model, like body positions, inertias, gravity or dynamic effects, joint jacobians, etc. For that, we need first to define the robot model. The easiest solution is to load it from a [URDF model](https://ocw.tudelft.nl/course-lectures/2-2-1-introduction-to-urdf/). This can be done with the function **buildModelFromUrdf**.\n",
    "\n",
    "The package **example-robot-data** proposes to directyl load several URDF models with a single line of code. This is what we are going to use for the tutorial. Look at the code inside the package if you want to adapt it to the URDF model of your favorite robot.\n"
   ]
  },
  {
   "cell_type": "code",
   "execution_count": 3,
   "metadata": {},
   "outputs": [],
   "source": [
    "robot = robex.loadTalosArm()   # Load a 6-dof manipulator arm"
   ]
  },
  {
   "cell_type": "markdown",
   "metadata": {},
   "source": [
    "The robot can be visualized in a viewer. Two viewers are proposed by default in Pinocchio: Gepetto-Viewer and MeshCat. Both display the robot model in an external windows managed by another processus.\n",
    "- MeshCat is browser based, which makes it very convenient in the jupyter context. \n",
    "- Gepetto-Viewer is the historical viewer for Gepetto, and is more powerful. But you need to first run the command **gepetto-viewer** in a terminal, before starting your python command."
   ]
  },
  {
   "cell_type": "code",
   "execution_count": 43,
   "metadata": {},
   "outputs": [],
   "source": [
    "Viewer = pin.visualize.GepettoVisualizer\n",
    "#Viewer = pin.visualize.MeshcatVisualizer\n",
    "\n",
    "viz = Viewer(robot.model, robot.collision_model, robot.visual_model)\n",
    "viz.initViewer(loadModel=True)\n",
    "viz.display(robot.q0)\n"
   ]
  },
  {
   "cell_type": "markdown",
   "metadata": {},
   "source": [
    "If chosing MeshCat, you can open the display directly inside the notebook."
   ]
  },
  {
   "cell_type": "code",
   "execution_count": 5,
   "metadata": {},
   "outputs": [
    {
     "ename": "AttributeError",
     "evalue": "'GepettoVisualizer' object has no attribute 'viewer'",
     "output_type": "error",
     "traceback": [
      "\u001b[0;31m---------------------------------------------------------------------------\u001b[0m",
      "\u001b[0;31mAttributeError\u001b[0m                            Traceback (most recent call last)",
      "\u001b[0;32m<ipython-input-5-9e819142bfbb>\u001b[0m in \u001b[0;36m<module>\u001b[0;34m\u001b[0m\n\u001b[0;32m----> 1\u001b[0;31m \u001b[0mviz\u001b[0m\u001b[0;34m.\u001b[0m\u001b[0mviewer\u001b[0m\u001b[0;34m.\u001b[0m\u001b[0mjupyter_cell\u001b[0m\u001b[0;34m(\u001b[0m\u001b[0;34m)\u001b[0m\u001b[0;34m\u001b[0m\u001b[0;34m\u001b[0m\u001b[0m\n\u001b[0m",
      "\u001b[0;31mAttributeError\u001b[0m: 'GepettoVisualizer' object has no attribute 'viewer'"
     ]
    }
   ],
   "source": [
    "viz.viewer.jupyter_cell()"
   ]
  },
  {
   "cell_type": "markdown",
   "metadata": {},
   "source": [
    "## 2. Pinocchio's philosophy (model, data and algorithms)"
   ]
  },
  {
   "cell_type": "markdown",
   "metadata": {},
   "source": [
    "### Model vs data"
   ]
  },
  {
   "cell_type": "markdown",
   "metadata": {},
   "source": [
    "Pinocchio is not extensively using the object oriented design pattern. We rather regroup the informations and buffers in some important data structure, then access to these structures using algorithms written in static functions.\n",
    "\n",
    "The two main data structures are `robot.model` and `robot.data`."
   ]
  },
  {
   "cell_type": "code",
   "execution_count": 7,
   "metadata": {},
   "outputs": [],
   "source": [
    "rmodel = robot.model\n",
    "rdata = rmodel.createData()"
   ]
  },
  {
   "cell_type": "markdown",
   "metadata": {},
   "source": [
    "The `robot.model` structure contains all the *constant* informations that the algorithms need to evaluate. It is typically loaded from a file describing the model (URDF). The `robot.model` is typically constant and is not modified by algorithms.\n",
    "\n",
    "The `robot.data` structure contains the memory buffers that the algorithms needs to store intermediary values or the final results to return to the user. "
   ]
  },
  {
   "cell_type": "markdown",
   "metadata": {},
   "source": [
    "### Joints names and indexes"
   ]
  },
  {
   "cell_type": "markdown",
   "metadata": {},
   "source": [
    "You can get the list of the joint names with the following:"
   ]
  },
  {
   "cell_type": "code",
   "execution_count": 8,
   "metadata": {},
   "outputs": [
    {
     "name": "stdout",
     "output_type": "stream",
     "text": [
      "universe\n",
      "arm_left_2_joint\n",
      "arm_left_3_joint\n",
      "arm_left_4_joint\n",
      "arm_left_5_joint\n",
      "arm_left_6_joint\n",
      "arm_left_7_joint\n",
      "gripper_left_joint\n"
     ]
    }
   ],
   "source": [
    "for n in rmodel.names: print(n)"
   ]
  },
  {
   "cell_type": "markdown",
   "metadata": {},
   "source": [
    "In what follows, we will specifically use the joint named `gripper_left_joint` whose index can be obtained with:"
   ]
  },
  {
   "cell_type": "code",
   "execution_count": 9,
   "metadata": {},
   "outputs": [],
   "source": [
    "jointIndex = rmodel.getJointId(\"gripper_left_joint\")"
   ]
  },
  {
   "cell_type": "markdown",
   "metadata": {},
   "source": [
    "### A first algorithm: random configuration"
   ]
  },
  {
   "cell_type": "markdown",
   "metadata": {},
   "source": [
    "For example, you can pick a random configuration by calling the algorithm `randomConfiguration`. This algorithm just needs the `robot.model` (as no intermediary buffer are needed)."
   ]
  },
  {
   "cell_type": "code",
   "execution_count": 10,
   "metadata": {},
   "outputs": [],
   "source": [
    "q = pin.randomConfiguration(rmodel)"
   ]
  },
  {
   "cell_type": "markdown",
   "metadata": {},
   "source": [
    "### A second algorithm: forward kinematics"
   ]
  },
  {
   "cell_type": "markdown",
   "metadata": {},
   "source": [
    "Another example is the algorithm to compute the foward kinematics. It recursively computes the placement of all the joint frames of the kinematic tree, and stores the results in `robot.data.oMj`, which is an array indexed by the joint indexes."
   ]
  },
  {
   "cell_type": "code",
   "execution_count": 11,
   "metadata": {},
   "outputs": [
    {
     "data": {
      "text/plain": [
       "  R =\n",
       "  0.115803  0.0113475  -0.993207\n",
       "-0.0802769   0.996771 0.00202828\n",
       "  0.990023  0.0794967    0.11634\n",
       "  p =  0.379195  0.482688 -0.180858"
      ]
     },
     "execution_count": 11,
     "metadata": {},
     "output_type": "execute_result"
    }
   ],
   "source": [
    "pin.forwardKinematics(rmodel,rdata,q)\n",
    "rdata.oMi[jointIndex]"
   ]
  },
  {
   "cell_type": "markdown",
   "metadata": {},
   "source": [
    "***\n",
    "![recap](recap.png)\n",
    "### Recap of the main syntax elements exposed in this section\n",
    "- `robot.model` and `robot.data` structures\n",
    "- `pin.randomConfiguration(robot.model)` to sample a random configuration\n",
    "- `pin.forwardKinematics(robot.model,robot.data,q)` to compute joint frame placements.\n",
    "- `robot.data.oMi[jointIdex]` to access a particular joint frame.\n",
    "***"
   ]
  },
  {
   "cell_type": "markdown",
   "metadata": {},
   "source": [
    "## 3. 3d cost: optimizing the end effector position"
   ]
  },
  {
   "cell_type": "markdown",
   "metadata": {},
   "source": [
    "We will now define a first cost function, that penalizes the distance between the robot gripper and a target.\n",
    "For that, let's define a target position `ptarget` of dimension 3. "
   ]
  },
  {
   "cell_type": "code",
   "execution_count": 12,
   "metadata": {},
   "outputs": [],
   "source": [
    "ptarget = np.array([.5,.1,.3])"
   ]
  },
  {
   "cell_type": "markdown",
   "metadata": {},
   "source": [
    "### Joints and frames\n",
    "As explained upper, the position of the joint `jointIndex` is stored in `robot.data.oMi[jointIndex].translation`, and is recomputed by `pin.forwardKinematics`. \n",
    "\n",
    "In Pinocchio, each joint is defined by its joint frame, whose **placement**, i.e. position+orientation, is stored in `robot.data.oMi`. \n",
    "\n",
    "We also defined in addition other *operational* frames. They are defined by a fixed placement with respect to their parent joint frame. Denoting by oMi the placement of the parent joint frame (function of q), and by iMf the fixed placement of the operational frame with respect to the parent joint frame, the placement of the operational frame with respect to the world is easily computed by oMf(q) = oMi(q)iMf. \n",
    "\n",
    "A complete list of available frames is stored in `robot.frames`. \n"
   ]
  },
  {
   "cell_type": "code",
   "execution_count": 13,
   "metadata": {},
   "outputs": [
    {
     "name": "stdout",
     "output_type": "stream",
     "text": [
      "universe\n",
      "root_joint\n",
      "arm_left_1_link\n",
      "arm_left_2_joint\n",
      "arm_left_2_link\n",
      "arm_left_3_joint\n",
      "arm_left_3_link\n",
      "arm_left_4_joint\n",
      "arm_left_4_link\n",
      "arm_left_5_joint\n",
      "arm_left_5_link\n",
      "arm_left_6_joint\n",
      "arm_left_6_link\n",
      "arm_left_7_joint\n",
      "arm_left_7_link\n",
      "wrist_left_ft_joint\n",
      "wrist_left_ft_link\n",
      "wrist_left_tool_joint\n",
      "wrist_left_ft_tool_link\n",
      "gripper_left_base_link_joint\n",
      "gripper_left_base_link\n",
      "gripper_left_inner_double_joint\n",
      "gripper_left_inner_double_link\n",
      "gripper_left_fingertip_1_joint\n",
      "gripper_left_fingertip_1_link\n",
      "gripper_left_fingertip_2_joint\n",
      "gripper_left_fingertip_2_link\n",
      "gripper_left_inner_single_joint\n",
      "gripper_left_inner_single_link\n",
      "gripper_left_fingertip_3_joint\n",
      "gripper_left_fingertip_3_link\n",
      "gripper_left_joint\n",
      "gripper_left_motor_double_link\n",
      "gripper_left_motor_single_joint\n",
      "gripper_left_motor_single_link\n"
     ]
    }
   ],
   "source": [
    "for f in robot.model.frames: print(f.name)"
   ]
  },
  {
   "cell_type": "markdown",
   "metadata": {},
   "source": [
    "All frame placements are computed directly by calling `pin.framesForwardKinematics` (or alternatively by calling `pin.updateFramePlacement` or `pin.updateFramePlacements` after a call to `pin.forwardKinematics`)."
   ]
  },
  {
   "cell_type": "code",
   "execution_count": 14,
   "metadata": {},
   "outputs": [],
   "source": [
    "pin.framesForwardKinematics(rmodel,rdata,q)"
   ]
  },
  {
   "cell_type": "markdown",
   "metadata": {},
   "source": [
    "For the tutorial, we will use the frame `gripper_left_fingertip_1_link`:"
   ]
  },
  {
   "cell_type": "code",
   "execution_count": 15,
   "metadata": {},
   "outputs": [],
   "source": [
    "frameIndex = rmodel.getFrameId('gripper_left_fingertip_1_link')"
   ]
  },
  {
   "cell_type": "markdown",
   "metadata": {},
   "source": [
    "### Cost-function template\n",
    "In this tutorial, the cost functions will all be defined following the same template:"
   ]
  },
  {
   "cell_type": "code",
   "execution_count": 16,
   "metadata": {},
   "outputs": [],
   "source": [
    "class Cost:\n",
    "    def __init__(self,rmodel,rdata,viz=None):  # add any other arguments you like\n",
    "        self.rmodel = rmodel\n",
    "        self.rdata  = rdata\n",
    "        self.viz = viz\n",
    "    def calc(self,q):\n",
    "        ### Add the code to recompute your cost here\n",
    "        cost = 0\n",
    "        return cost\n",
    "    def callback(self,q):\n",
    "        if viz is None: return\n",
    "        # Display something in viz ..."
   ]
  },
  {
   "cell_type": "markdown",
   "metadata": {},
   "source": [
    "We will see later that the callback can be used to display or print data during the optimization. For example, we may want to display the robot configuration, and visualize the target position with a simple sphere added to the viewer."
   ]
  },
  {
   "cell_type": "markdown",
   "metadata": {},
   "source": [
    "TODO Guilhem: add a simple sphere to MeshCat"
   ]
  },
  {
   "cell_type": "code",
   "execution_count": 17,
   "metadata": {},
   "outputs": [
    {
     "name": "stdout",
     "output_type": "stream",
     "text": [
      "This code is only valid for Gepetto-Viewer ... TODO for MeshCat\n"
     ]
    }
   ],
   "source": [
    "try:\n",
    "    viz.addBox(\"world/box\",  .05,.1,.2, [1., .2, .2, .5])\n",
    "    viz.addSphere(\"world/ball\", .05, [.2, .2, 1., .5])\n",
    "    viz.applyConfiguration('world/box', [0.5,.2,.2,1,0,0,0])\n",
    "    viz.applyConfiguration('world/ball', [-0.5,.2,.2,1,0,0,0])\n",
    "except:\n",
    "    print(\"This code is only valid for Gepetto-Viewer ... TODO for MeshCat\")"
   ]
  },
  {
   "cell_type": "markdown",
   "metadata": {},
   "source": [
    "![Question](question.png) \n",
    "### Question\n",
    "Implement a `Cost` class computing the quadratic cost `p(q)-ptarget`."
   ]
  },
  {
   "cell_type": "code",
   "execution_count": 18,
   "metadata": {},
   "outputs": [],
   "source": [
    "# %load -r 6-31 costs.py\n",
    "class Cost3d:\n",
    "    def __init__(self,rmodel,rdata,frameIndex=None, ptarget=None,viz=None):\n",
    "        self.rmodel = rmodel\n",
    "        self.rdata = rdata\n",
    "        self.ptarget = ptarget if ptarget is not None \\\n",
    "                       else  np.array([0.5, 0.1, 0.27])\n",
    "        self.frameIndex = frameIndex if frameIndex is not None else robot.model.nframes-1\n",
    "        self.viz = viz\n",
    "        \n",
    "    def residual(self,q):\n",
    "        pin.framesForwardKinematics(self.rmodel,self.rdata,q)\n",
    "        M = self.rdata.oMf[self.frameIndex]\n",
    "        return (M.translation-self.ptarget)\n",
    "\n",
    "    def calc(self,q):\n",
    "        return sum(self.residual(q)**2)\n",
    "\n",
    "    ### --- Callback\n",
    "    def callback(self,q):\n",
    "        if self.viz is None: return\n",
    "        pin.framesForwardKinematics(self.rmodel,self.rdata,q)\n",
    "        M = self.rdata.oMf[self.frameIndex]\n",
    "        #TODO Guilhem self.viz.applyConfiguration('world/blue', pin.SE3ToXYZQUATtuple(M))\n",
    "        #TODO Guilhem self.viz.applyConfiguration('world/box', self.ptarget.tolist()+[1,0,0,0])\n",
    "        self.viz.display(q)\n",
    "        time.sleep(1e-2)"
   ]
  },
  {
   "cell_type": "markdown",
   "metadata": {},
   "source": [
    "***\n",
    "![recap](recap.png)\n",
    "### Recap of the main syntax elements exposed in this section\n",
    "- Frame placements are computed by `pin.framesForwardKinematics(rmodel,rdata,q)`, and accessed by `rdata.oMf[frameIndex]`.\n",
    "- Frame translation is a 3d array stored in `rdata.oMf[frameIndex].translation`.\n",
    "***\n"
   ]
  },
  {
   "cell_type": "markdown",
   "metadata": {},
   "source": [
    "## 4. 6d cost: optimizing the end effector placement (position+orientation)"
   ]
  },
  {
   "cell_type": "markdown",
   "metadata": {},
   "source": [
    "We will now define a cost function that penalizes the placement, i.e. rotation+translation between an operational frame and a target frame."
   ]
  },
  {
   "cell_type": "markdown",
   "metadata": {},
   "source": [
    "### Spatial algebra in Pinocchio\n",
    "Most of the physical quantifies stored in Pinocchio are 6D quantities, that are element of the so-called *Spatial Algebra*, following Roy Featherstone definition and namings. Featherstone's work, and in particular [his excellent 2008 book](https://link.springer.com/content/pdf/10.1007%2F978-1-4899-7560-7.pdf) is the basis for all the algorithms in Pinocchio.\n",
    "\n",
    "Frame placement, formally elements of the Lie group SE(3), are represented in Pinocchio by an object of class `pin.SE3` containing a 3x3 rotation array and and 3 translation vector. Placements can by multiplied and inverted."
   ]
  },
  {
   "cell_type": "code",
   "execution_count": 19,
   "metadata": {},
   "outputs": [
    {
     "name": "stdout",
     "output_type": "stream",
     "text": [
      "  R =\n",
      " -0.83239  0.271807  0.482957\n",
      " 0.442112  0.851158  0.282963\n",
      "-0.334162  0.449056 -0.828664\n",
      "  p = -0.716795  0.213938 -0.967399\n",
      " [[-0.83239014  0.27180683  0.48295726]\n",
      " [ 0.4421116   0.85115773  0.28296262]\n",
      " [-0.33416163  0.4490563  -0.82866425]] [-0.71679489  0.21393775 -0.96739886]\n"
     ]
    }
   ],
   "source": [
    "M1 = pin.SE3.Identity()\n",
    "M2 = pin.SE3.Random()\n",
    "print(M2,M2.rotation, M2.translation)\n",
    "M3 = M1*M2\n",
    "M4 = M2.inverse()"
   ]
  },
  {
   "cell_type": "markdown",
   "metadata": {},
   "source": [
    "SE(3) comes with `log` and `exp` operations. The `log` maps a SE3 placement into the 6D velocity that should be applied during 1 second to obtain this placement, starting from identity. In Pinocchio, 6D velocity are represented as `pin.Motion` object, and can be mapped to 6D array."
   ]
  },
  {
   "cell_type": "code",
   "execution_count": 20,
   "metadata": {},
   "outputs": [
    {
     "name": "stdout",
     "output_type": "stream",
     "text": [
      "[0. 0. 0. 0. 0. 0.]\n"
     ]
    }
   ],
   "source": [
    "nu = pin.log(M1)\n",
    "print(nu.vector)"
   ]
  },
  {
   "cell_type": "markdown",
   "metadata": {},
   "source": [
    "We will not need much of spatial algebra in this tutorial. See the class `pin.Motion`, `pin.Force`, `pin.Inertia` for more details. "
   ]
  },
  {
   "cell_type": "markdown",
   "metadata": {},
   "source": [
    "### Distances between frames\n",
    "The `log` operator can be used to define a distance between placements. The norm of the log is evidently positive and null only in the placement is identity. Consequently, `log(M1.inverse()*M2)` is a positive scalar that is null only if `M1==M2`."
   ]
  },
  {
   "cell_type": "markdown",
   "metadata": {},
   "source": [
    "![Question](question.png)\n",
    "Following the same previous pattern, define a Cost6d class penalizing the distance between a frame attached to the robot and a reference fixed frame."
   ]
  },
  {
   "cell_type": "code",
   "execution_count": 21,
   "metadata": {},
   "outputs": [],
   "source": [
    "# %load -r 42-67 costs.py\n",
    "class Cost6d:\n",
    "    def __init__(self,rmodel,rdata,frameIndex=None, Mtarget=None,viz=None):\n",
    "        self.rmodel = rmodel\n",
    "        self.rdata = rdata\n",
    "        self.Mtarget = Mtarget if Mtarget is not None \\\n",
    "                       else pin.SE3(pin.utils.rotate('x',3.14/4), np.array([0.5, 0.1, 0.27]))  # x,y,z\n",
    "        self.frameIndex = frameIndex if frameIndex is not None else robot.model.nframes-1\n",
    "        self.viz = viz\n",
    "\n",
    "    def residual(self,q):\n",
    "        '''Compute score from a configuration'''\n",
    "        pin.forwardKinematics(self.rmodel,self.rdata,q)\n",
    "        M = pin.updateFramePlacement(self.rmodel,self.rdata,self.frameIndex)\n",
    "        self.deltaM = self.Mtarget.inverse() * M\n",
    "        return pin.log(self.deltaM).vector\n",
    "\n",
    "    def calc(self,q):\n",
    "        return sum(self.residual(q)**2)\n",
    "\n",
    "    def callback(self,q):\n",
    "        if self.viz is None: return\n",
    "        self.viz.applyConfiguration('world/blue', pin.SE3ToXYZQUATtuple(M))\n",
    "        self.viz.applyConfiguration('world/box', pin.SE3ToXYZQUATtuple(self.Mtarget))\n",
    "        self.viz.display(q)\n",
    "        time.sleep(1e-2)\n"
   ]
  },
  {
   "cell_type": "markdown",
   "metadata": {},
   "source": [
    "***\n",
    "![recap](recap.png)\n",
    "### Recap of the main syntax elements exposed in this section\n",
    "- SE3 logarithm is implemented by `pin.log`, returns a `pin.Motion` class that can be converted into a vector with `pin.log(M).vector`.\n",
    "***\n"
   ]
  },
  {
   "cell_type": "markdown",
   "metadata": {},
   "source": [
    "## 5. Redundancy and introduction of a posture cost"
   ]
  },
  {
   "cell_type": "markdown",
   "metadata": {},
   "source": [
    "We will now run the optimizer with the two cost functions defined above, and add a posture cost to regularize the rank-deficient hessian."
   ]
  },
  {
   "cell_type": "markdown",
   "metadata": {},
   "source": [
    "### Runing the optimizer\n",
    "We will use the optimizer BFGS from SciPy. It is quasi-newton algorithm, which means that it only needs the first-order derivatives (while having super-linear convergence). Even better, it automatically approximates the derivatives by finite differences if you don't provide them. \n"
   ]
  },
  {
   "cell_type": "code",
   "execution_count": null,
   "metadata": {},
   "outputs": [],
   "source": [
    "viz.viewer.jupyter_cell()"
   ]
  },
  {
   "cell_type": "code",
   "execution_count": 22,
   "metadata": {},
   "outputs": [
    {
     "name": "stdout",
     "output_type": "stream",
     "text": [
      "Optimization terminated successfully.\n",
      "         Current function value: 0.007774\n",
      "         Iterations: 45\n",
      "         Function evaluations: 486\n",
      "         Gradient evaluations: 54\n"
     ]
    }
   ],
   "source": [
    "cost = Cost3d(rmodel,rdata)\n",
    "qguess = robot.q0.copy()\n",
    "qopt = fmin_bfgs(cost.calc,qguess,callback=cost.callback)\n",
    "viz.display(qopt)"
   ]
  },
  {
   "cell_type": "markdown",
   "metadata": {},
   "source": [
    "### Redundancy\n",
    "\n",
    "The arm of the robot Talos, that we used by default in the notebook, as 6 degrees of freedom (if not considering the gripper). If using the 3D cost function, there is a continuum of solutions, as the kinematic is redundant for achieve a pointing tasks. You can obtain different optimum by changing the initial guess. Each new run with a random initial guess gives you a new optimum."
   ]
  },
  {
   "cell_type": "code",
   "execution_count": 23,
   "metadata": {},
   "outputs": [
    {
     "name": "stdout",
     "output_type": "stream",
     "text": [
      "Optimization terminated successfully.\n",
      "         Current function value: 0.007774\n",
      "         Iterations: 35\n",
      "         Function evaluations: 387\n",
      "         Gradient evaluations: 43\n"
     ]
    }
   ],
   "source": [
    "qguess = pin.randomConfiguration(rmodel)\n",
    "qopt = fmin_bfgs(cost.calc,qguess,callback=cost.callback)\n",
    "viz.display(qopt)"
   ]
  },
  {
   "cell_type": "markdown",
   "metadata": {},
   "source": [
    "We will now add a small regularization to the cost, by optimizing a full-rank term on the robot posture, to make the solution unique indenpendantly from the robot kinematics and the considered task cost."
   ]
  },
  {
   "cell_type": "markdown",
   "metadata": {},
   "source": [
    "![Question](question.png)\n",
    "Introduce a new cost function for penalizing the distance of the robot posture to a reference posture, for example `robot.q0`."
   ]
  },
  {
   "cell_type": "code",
   "execution_count": 24,
   "metadata": {},
   "outputs": [],
   "source": [
    "# %load -r 75-88 costs.py\n",
    "class CostPosture:\n",
    "    def __init__(self,rmodel,rdata,qref=None, viz=None):\n",
    "        # viz, rmodel and rdata are taken to respect the API but are not useful.\n",
    "        self.qref = qref if qref is not None else pin.randomConfiguration(rmodel)\n",
    "        self.removeFreeFlyer = robot.model.joints[1].nq == 7  # Don't penalize the free flyer if any.\n",
    "\n",
    "    def residual(self,q):\n",
    "        if self.removeFreeFlyer:\n",
    "            return (q-self.qref)[7:]\n",
    "        else:\n",
    "            return q-self.qref\n",
    "\n",
    "    def calc(self,q):\n",
    "        return sum(self.residual(q)**2)"
   ]
  },
  {
   "cell_type": "markdown",
   "metadata": {},
   "source": [
    "### Optimize a sum of cost"
   ]
  },
  {
   "cell_type": "markdown",
   "metadata": {},
   "source": [
    "Now we can define an ad-hoc cost that makes a sum of both costs."
   ]
  },
  {
   "cell_type": "code",
   "execution_count": 25,
   "metadata": {},
   "outputs": [],
   "source": [
    "class SumOfCost:\n",
    "    def __init__(self,costs,weights):\n",
    "        self.costs = costs\n",
    "        self.weights = np.array(weights)\n",
    "    def calc(self,q):\n",
    "        return sum(self.weights*[ cost.calc(q) for cost in self.costs] )\n",
    "mycost = SumOfCost([Cost3d(rmodel,rdata),CostPosture(rmodel,rdata)],[1,1e-3])"
   ]
  },
  {
   "cell_type": "markdown",
   "metadata": {},
   "source": [
    "And we optimize this new cost."
   ]
  },
  {
   "cell_type": "code",
   "execution_count": 26,
   "metadata": {},
   "outputs": [
    {
     "name": "stdout",
     "output_type": "stream",
     "text": [
      "Optimization terminated successfully.\n",
      "         Current function value: 0.075558\n",
      "         Iterations: 76\n",
      "         Function evaluations: 792\n",
      "         Gradient evaluations: 88\n"
     ]
    },
    {
     "data": {
      "text/plain": [
       "array([ 3.31808314, -0.03856018,  4.26602858,  1.59086526, -5.26536723,\n",
       "       -0.09268316, -0.38075212])"
      ]
     },
     "execution_count": 26,
     "metadata": {},
     "output_type": "execute_result"
    }
   ],
   "source": [
    "fmin_bfgs(mycost.calc,qguess)"
   ]
  },
  {
   "cell_type": "markdown",
   "metadata": {},
   "source": [
    "***\n",
    "![recap](recap.png)\n",
    "### Recap of the main syntax elements exposed in this section\n",
    "- The BFGS solver is called by `fmin_bfgs(cost.calc,qguess,cost.callback)`. \n",
    "***\n"
   ]
  },
  {
   "cell_type": "markdown",
   "metadata": {},
   "source": [
    "## 6. Gravity cost: introducing the dynamic model"
   ]
  },
  {
   "cell_type": "markdown",
   "metadata": {},
   "source": [
    "The posture cost is a nice regularization but requires a reference posture that may be hard to define. We will now define a cost to minimize the gravity torque, as an alternative regularization."
   ]
  },
  {
   "cell_type": "markdown",
   "metadata": {},
   "source": [
    "### Dynamics in Pinocchio\n",
    "\n",
    "The whole-body dynamics equation can be written as:\n",
    "$$M(q) a_q + b(q,v_q) = \\tau_q   $$\n",
    "where $q,v_q,a_q$ are the position, velocity and acceleration in the configuration space, $M(q)$ is the configuration-space inertia matrix, of size `robot.model.nv`x`robot.model.nv`, $b(q,v_q)$ gathers all the drift terms (Coriolis, centrifugal, gravity) and $\\tau_q$ are the joint torques. We write $v_q$ and $a_q$ because in general $q$ (of size `robot.model.nq`) does not have the same size as its derivatives, although they corresponds to $\\dot{q}$ and $\\ddot{q}$ for now."
   ]
  },
  {
   "cell_type": "markdown",
   "metadata": {},
   "source": [
    "### Computing the gravity term\n",
    "This equation corresponds to the inverse dynamics. We can evaluate parts of it or the entire equation, as we will see next. Let's start with a simple case. \n",
    "\n",
    "The gravity term corresponds to the torques when the robot has no velocity nor acceleration:\n",
    "$$g(q) = b(q,v_q=0) = dyninv(q,v_q=0,a_q=0)$$\n",
    "In Pinocchio, it can be directly computed with:"
   ]
  },
  {
   "cell_type": "code",
   "execution_count": 27,
   "metadata": {},
   "outputs": [],
   "source": [
    "g = pin.computeGeneralizedGravity(rmodel,rdata,q)"
   ]
  },
  {
   "cell_type": "markdown",
   "metadata": {},
   "source": [
    "![question](question.png)\n",
    "Define a new cost function that compute the squared norm of the gravity."
   ]
  },
  {
   "cell_type": "code",
   "execution_count": 28,
   "metadata": {},
   "outputs": [],
   "source": [
    "# %load -r 99-107 costs.py\n",
    "class CostGravity:\n",
    "    def __init__(self,rmodel,rdata,viz=None):\n",
    "        self.rmodel = rmodel\n",
    "        self.rdata = rdata\n",
    "        self.viz = viz\n",
    "    def residual(self,q):\n",
    "        return pin.computeGeneralizedGravity(self.rmodel,self.rdata,q)\n",
    "    def calc(self,q):\n",
    "        return sum(self.residual(q)**2)"
   ]
  },
  {
   "cell_type": "markdown",
   "metadata": {},
   "source": [
    "***\n",
    "![recap](recap.png)\n",
    "### Recap of the main syntax elements exposed in this section\n",
    "- The gravity torque can be computed by `pin.computeGeneralizedGravity(rmodel,rdata,q)`.\n",
    "***\n"
   ]
  },
  {
   "cell_type": "markdown",
   "metadata": {},
   "source": [
    "## 7. Weighted gravity cost: RNEA and ABA recursive algorithms"
   ]
  },
  {
   "cell_type": "markdown",
   "metadata": {},
   "source": [
    "Minimizing the gravity cost is often obtained by bringing the robot to singular configurations. A better behavior might be obtained by a variation of this cost implying the generalized inertia matrix."
   ]
  },
  {
   "cell_type": "markdown",
   "metadata": {},
   "source": [
    "### Recursive algorithms in Pinocchio\n",
    "The 3 most efficient algorithms to evaluate the dynamic equations are implemented in Pinocchio:\n",
    "- the recursive Newton-Euler algorithm (RNEA) computes the inverse dynamics $\\tau_q = invdyn(q,v_q,a_q)$\n",
    "- the articulated rigid body algorithm (ABA) computes the direct dynamics $a_q = dirdyn(q,v_q,_tau_q)$\n",
    "- the composite rigid body algorithm (CRBA) computes the mass matrix.\n",
    "The 3 algorithms can be directly called by their names in Pinocchio."
   ]
  },
  {
   "cell_type": "code",
   "execution_count": 29,
   "metadata": {},
   "outputs": [],
   "source": [
    "vq = np.random.rand(rmodel.nv)*2-1\n",
    "aq = np.random.rand(rmodel.nv)*2-1\n",
    "tauq = pin.rnea(rmodel,rdata,q,vq,aq)\n",
    "aq2 = pin.aba(rmodel,rdata,q,vq,tauq)\n",
    "assert(norm(aq-aq2)<1e-6)\n",
    "M = pin.crba(rmodel,rdata,q)"
   ]
  },
  {
   "cell_type": "markdown",
   "metadata": {},
   "source": [
    "The gravity torque $g(q)=b(q,0)$ and the dynamic drift $b(q,vq)$ can be also computed by a truncated RNEA implementation."
   ]
  },
  {
   "cell_type": "code",
   "execution_count": 30,
   "metadata": {},
   "outputs": [],
   "source": [
    "b = pin.nle(rmodel,rdata,q,vq)\n",
    "assert(norm(M@aq+b-tauq)<1e-6)"
   ]
  },
  {
   "cell_type": "markdown",
   "metadata": {},
   "source": [
    "### Weighted gravity norm\n",
    "A better posture regularization can be obtained by taking the norm of the gravity weighted by the inertia:\n",
    "$$ l(q) = g(q)^T M(q)^{-1} g(q)$$\n",
    "\n",
    "We can directly evaluate this expression by compute and inverting $M$. Yet it is more efficient to recognize that $M(q)^{-1} g(q) = -dirdyn(q,0,0)$ and can be evaluated by:"
   ]
  },
  {
   "cell_type": "code",
   "execution_count": 31,
   "metadata": {},
   "outputs": [],
   "source": [
    "aq0 = -pin.aba(rmodel,rdata,q,np.zeros(rmodel.nv),np.zeros(rmodel.nv))"
   ]
  },
  {
   "cell_type": "markdown",
   "metadata": {},
   "source": [
    "![question](question.png)\n",
    "Implement a new cost function for this weighted gravity, and run it as the regularization of a reaching task."
   ]
  },
  {
   "cell_type": "code",
   "execution_count": 32,
   "metadata": {},
   "outputs": [],
   "source": [
    "# %load -r 114-126 costs.py\n",
    "class CostWeightedGravity:\n",
    "    \"\"\"\n",
    "    return g.T*inv(M)*g = g(q).T * aba(q,0,0) = rnea(q,0,0).T*aba(q,0,0)\n",
    "    \"\"\"\n",
    "    def __init__(self,rmodel,rdata,viz=None):\n",
    "        self.rmodel = rmodel\n",
    "        self.rdata = rdata\n",
    "        self.viz = viz\n",
    "        self.v0 = np.zeros(self.rmodel.nv)  # for convenience in the evaluation\n",
    "    def calc(self,q):\n",
    "        g = pin.computeGeneralizedGravity(self.rmodel,self.rdata,q)\n",
    "        taugrav = -pin.aba(self.rmodel,self.rdata,q,self.v0,self.v0)\n",
    "        return np.dot(taugrav,g)"
   ]
  },
  {
   "cell_type": "markdown",
   "metadata": {},
   "source": [
    "***\n",
    "![recap](recap.png)\n",
    "### Recap of the main syntax elements exposed in this section\n",
    "- Inverse dynamics: `tauq = pin.rnea(rmodel,rdata,q,vq,aq)`\n",
    "- Direct dynamcis: `aq = pin.aba(rmodel,rdata,q,vq,tauq)`\n",
    "- Inertia matrix: `M = pin.crba(rmodel,rdata,q)\n",
    "- Dynamics drift: `b = pin.nle(rmodel,rdata,q,vq)`\n",
    "***\n"
   ]
  },
  {
   "cell_type": "markdown",
   "metadata": {},
   "source": [
    "## 8. Working with a free floating robot"
   ]
  },
  {
   "cell_type": "markdown",
   "metadata": {},
   "source": [
    "We now apply the previous mathematical program to a more complex robot with a floatin basis."
   ]
  },
  {
   "cell_type": "markdown",
   "metadata": {},
   "source": [
    "### Loading Anymal or Talos\n",
    "You might want to use either the quadruped robot Anymal or the humanoid robot Talos for this one."
   ]
  },
  {
   "cell_type": "code",
   "execution_count": 33,
   "metadata": {},
   "outputs": [],
   "source": [
    "#robot = robex.loadTalos()\n",
    "robot = robex.loadANYmal()\n",
    "viz = Viewer(robot.model, robot.collision_model, robot.visual_model)\n",
    "viz.initViewer(loadModel=True)\n",
    "viz.display(robot.q0)\n",
    "#viz.viewer.jupyter_cell()"
   ]
  },
  {
   "cell_type": "code",
   "execution_count": 34,
   "metadata": {},
   "outputs": [],
   "source": [
    "rmodel = robot.model\n",
    "rdata = rmodel.createData()"
   ]
  },
  {
   "cell_type": "markdown",
   "metadata": {},
   "source": [
    "### Oh! no, my configuration space is now a Lie group!"
   ]
  },
  {
   "cell_type": "markdown",
   "metadata": {},
   "source": [
    "In Pinocchio, the float basis is represented by default as a free-flyer joint. Free-flyer joints have 6 degrees of freedom, but are represented by 7 numbers: the position of the basis center in the world frame, and the orientation of the basis in the world frame stored as a quaternion. This implies that the size of the configuration vector $q$ is one more than the size of the configuration velocity, acceleration or torque: `robot.model.nv`==`robot.model.nv`+1"
   ]
  },
  {
   "cell_type": "code",
   "execution_count": 35,
   "metadata": {},
   "outputs": [
    {
     "name": "stdout",
     "output_type": "stream",
     "text": [
      "JointModelFreeFlyer\n",
      "  index: 1\n",
      "  index q: 0\n",
      "  index v: 0\n",
      "  nq: 7\n",
      "  nv: 6\n",
      "\n"
     ]
    }
   ],
   "source": [
    "print(rmodel.joints[1])\n",
    "assert(rmodel.nq==rmodel.nv+1)"
   ]
  },
  {
   "cell_type": "markdown",
   "metadata": {},
   "source": [
    "Formally, we say that the configuration $q$ is now living in a Lie group $\\mathcal{Q}$, while $v_q$ is in the tangent of this group, the Lie algebra $T_q\\mathcal{Q}$. \n",
    "In practice, it means that sampling a random $q$ has it was a vector would not work: you must either use the `pin.randomConfiguration` introduced earlier, or normalize the configuration using `pin.normalize`."
   ]
  },
  {
   "cell_type": "code",
   "execution_count": 36,
   "metadata": {},
   "outputs": [],
   "source": [
    "q = np.random.rand(rmodel.nq)  ### Not a valid configuration, because the quaternion is not normalized.\n",
    "q = pin.normalize(rmodel,q)  ### Now, it is normalize\n",
    "# Or better, call directly randomConfiguration\n",
    "q = pin.randomConfiguration(rmodel)  ### q is normalized\n",
    "viz.display(q)"
   ]
  },
  {
   "cell_type": "markdown",
   "metadata": {},
   "source": [
    "Similarly, you cannot directly sum a configuration with a velocity: they don't have the same size. Rather, you should integrate the velocity using `pin.integrate`."
   ]
  },
  {
   "cell_type": "code",
   "execution_count": 37,
   "metadata": {},
   "outputs": [
    {
     "name": "stdout",
     "output_type": "stream",
     "text": [
      "This raises an error.\n"
     ]
    }
   ],
   "source": [
    "vq = np.random.rand(rmodel.nv)*2-1 ### sample a random velocity between -1 and 1.\n",
    "try:\n",
    "    q += vq\n",
    "except:\n",
    "    print('This raises an error.')\n",
    "\n",
    "q = pin.integrate(rmodel,q,vq)"
   ]
  },
  {
   "cell_type": "markdown",
   "metadata": {},
   "source": [
    "The reciprocal operation is `pin.differentiate(rmodel,q1,q2)`: it returns the velocity `vq` so that $q_1 \\oplus v_q = q_2$ (with $\\oplus$ the integration in $\\mathcal{Q}$)."
   ]
  },
  {
   "cell_type": "code",
   "execution_count": 38,
   "metadata": {},
   "outputs": [
    {
     "name": "stdout",
     "output_type": "stream",
     "text": [
      "[ 1.21014310e-14 -1.63202785e-14  8.88178420e-16 -1.09010023e-14\n",
      " -2.22044605e-16  2.33146835e-15 -7.21644966e-16  0.00000000e+00\n",
      "  0.00000000e+00  0.00000000e+00  0.00000000e+00  0.00000000e+00\n",
      "  0.00000000e+00  0.00000000e+00 -8.88178420e-16  0.00000000e+00\n",
      "  0.00000000e+00  0.00000000e+00  0.00000000e+00]\n"
     ]
    }
   ],
   "source": [
    "q1 = pin.randomConfiguration(rmodel)\n",
    "q2 = pin.randomConfiguration(rmodel)\n",
    "vq = pin.difference(rmodel,q1,q2)\n",
    "print(q2-pin.integrate(rmodel,q1,vq))"
   ]
  },
  {
   "cell_type": "markdown",
   "metadata": {},
   "source": [
    "Depending on the random samples `q1`,`q2`, the print might be 0, or something different on the quaternion part ... again, because making the vector operation `qa-qb` is not valid in $\\mathcal{Q}$."
   ]
  },
  {
   "cell_type": "markdown",
   "metadata": {},
   "source": [
    "### Consequence on optimization\n",
    "So, can we directly us the mathematical program that we defined above with our free-basis robot? Yes and no. \n",
    "\n",
    "Let's see that in practice before answering in details.  Just optimize your latest mathematical program with the new robot. If you want the normalization to significantly impact the display, choose a target that is far away from the robot.\n",
    "\n",
    "**Before runing the next cell**, try to guess how the result will be displayed."
   ]
  },
  {
   "cell_type": "code",
   "execution_count": 45,
   "metadata": {},
   "outputs": [
    {
     "name": "stdout",
     "output_type": "stream",
     "text": [
      "Optimization terminated successfully.\n",
      "         Current function value: 0.000000\n",
      "         Iterations: 20\n",
      "         Function evaluations: 504\n",
      "         Gradient evaluations: 24\n"
     ]
    }
   ],
   "source": [
    "mycost = SumOfCost([Cost3d(rmodel,rdata,ptarget = np.array([2,2,-1]), viz=viz),CostPosture(rmodel,rdata)],[1,1e-3])\n",
    "qopt = fmin_bfgs(mycost.calc,robot.q0,callback=mycost.costs[0].callback)"
   ]
  },
  {
   "cell_type": "markdown",
   "metadata": {},
   "source": [
    "So, what happened?\n",
    "\n",
    "All the cost function that we defined are valid when `q` is a proper normalized configuration. **BUT** `fmin_bfgs` is not aware of the normalization constraint. The solver modifies the initial `q` guess into a new `q` vector that is not normalized, hence not a valid configuration.\n",
    "\n",
    "To prevent that, two solutions are possible:\n",
    "1. a cost can be added to penalize the solver when choosing a new `q` that is not normalized: `cost(q) = (1-q[3:7]**2)**2` (or more generic, `cost(q) = sum( (q-pin.normalize(rmodel,q))**2 )`.\n",
    "2. or the vector `q` chosen by the solver should be first normalized when entering `cost.call`, so that the cost is evaluated on a proper configuration."
   ]
  },
  {
   "cell_type": "markdown",
   "metadata": {},
   "source": [
    "![Question](question.png)\n",
    "Redefine your sum-of-cost class with either adding an extra term in the sum to penalize the normalization, or by first normalizing the decision vector `q`.\n"
   ]
  },
  {
   "cell_type": "code",
   "execution_count": 64,
   "metadata": {},
   "outputs": [
    {
     "name": "stdout",
     "output_type": "stream",
     "text": [
      "Optimization terminated successfully.\n",
      "         Current function value: 0.000000\n",
      "         Iterations: 17\n",
      "         Function evaluations: 420\n",
      "         Gradient evaluations: 20\n"
     ]
    }
   ],
   "source": [
    "# %load -r 2-21 solutions.py\n",
    "class SumOfCostFreeFlyer:\n",
    "    def __init__(self,rmodel,rdata,costs,weights):\n",
    "        self.rmodel = rmodel\n",
    "        self.costs = costs\n",
    "        self.weights = np.array(weights)\n",
    "    def calc(self,q):\n",
    "        q = pin.normalize(self.rmodel,q)\n",
    "        ### Alternatively, add this extra term to the sum\n",
    "        extra = sum( (q-pin.normalize(rmodel,q))**2 )*100\n",
    "        return sum(self.weights*[ cost.calc(q) for cost in self.costs] ) #+extra\n",
    "    def callback(self,q):\n",
    "        q = pin.normalize(self.rmodel,q)\n",
    "        for c in self.costs:\n",
    "            if hasattr(c,'callback'): c.callback(q)\n",
    "    \n",
    "mycost = SumOfCostFreeFlyer(rmodel,rdata,\n",
    "                            [Cost3d(rmodel,rdata,ptarget = np.array([2,2,-1]), viz=viz),\n",
    "                             CostPosture(rmodel,rdata)],[1,1e-3])\n",
    "qopt = fmin_bfgs(mycost.calc,robot.q0,callback=mycost.callback)    \n"
   ]
  },
  {
   "cell_type": "markdown",
   "metadata": {},
   "source": [
    "<div class=\"alert alert-block alert-info\">\n",
    "    <img src=\"recap.png\" title=\"Recap\"/>\n",
    "    <h3>Recap of the main syntax elements exposed in this section</h3>\n",
    "    <ul>\n",
    "        <li><code>pin.integrate</code> adds a configuration with a velocity.</li>\n",
    "        <li><code>pin.difference</code> makes the difference between two configurations.</li>\n",
    "        <li><code>pin.normalize</code> project any vector of size NQ into a properly normalized configuration.</li>\n",
    "     </ul>\n",
    "\n",
    "</div>"
   ]
  }
 ],
 "metadata": {
  "kernelspec": {
   "display_name": "Python 3",
   "language": "python",
   "name": "python3"
  },
  "language_info": {
   "codemirror_mode": {
    "name": "ipython",
    "version": 3
   },
   "file_extension": ".py",
   "mimetype": "text/x-python",
   "name": "python",
   "nbconvert_exporter": "python",
   "pygments_lexer": "ipython3",
   "version": "3.6.9"
  }
 },
 "nbformat": 4,
 "nbformat_minor": 4
}
